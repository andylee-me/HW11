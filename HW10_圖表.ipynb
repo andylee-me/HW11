{
  "nbformat": 4,
  "nbformat_minor": 0,
  "metadata": {
    "colab": {
      "name": "HW10-圖表",
      "provenance": [],
      "collapsed_sections": [],
      "toc_visible": true,
      "authorship_tag": "ABX9TyOIV0+gllMkBgPBronCCJ8U",
      "include_colab_link": true
    },
    "kernelspec": {
      "display_name": "Python 3",
      "name": "python3"
    },
    "language_info": {
      "name": "python"
    }
  },
  "cells": [
    {
      "cell_type": "markdown",
      "metadata": {
        "id": "view-in-github",
        "colab_type": "text"
      },
      "source": [
        "<a href=\"https://colab.research.google.com/github/andylee-me/HW11/blob/main/HW10_%E5%9C%96%E8%A1%A8.ipynb\" target=\"_parent\"><img src=\"https://colab.research.google.com/assets/colab-badge.svg\" alt=\"Open In Colab\"/></a>"
      ]
    },
    {
      "cell_type": "code",
      "metadata": {
        "colab": {
          "base_uri": "https://localhost:8080/"
        },
        "id": "ovkWNu7f_boI",
        "outputId": "2bdc4f30-8ce1-4f7f-c62c-a88999c43e97"
      },
      "source": [
        "from google.colab import drive\n",
        "drive.mount('/content/drive')"
      ],
      "execution_count": 394,
      "outputs": [
        {
          "output_type": "stream",
          "text": [
            "Drive already mounted at /content/drive; to attempt to forcibly remount, call drive.mount(\"/content/drive\", force_remount=True).\n"
          ],
          "name": "stdout"
        }
      ]
    },
    {
      "cell_type": "code",
      "metadata": {
        "id": "DZxkMnAWCsS2"
      },
      "source": [
        "with open('/content/drive/My Drive/population.txt', 'r') as f: \n",
        "    line = f.readlines()"
      ],
      "execution_count": 395,
      "outputs": []
    },
    {
      "cell_type": "code",
      "metadata": {
        "colab": {
          "base_uri": "https://localhost:8080/"
        },
        "id": "qyIvTdXgDd8b",
        "outputId": "9ca58368-ab75-4a8c-bb8b-d2e3c29689e8"
      },
      "source": [
        "year = line[0]\n",
        "import re\n",
        "year = ([float(s) for s in re.findall(r'-?\\d+\\.?\\d*', year)])\n",
        "peo_1 = line[2]\n",
        "peo_1 = ([float(s) for s in re.findall(r'-?\\d+\\.?\\d*', peo_1)])\n",
        "peo_1.pop(0)\n",
        "peo_2 = line[3]\n",
        "peo_2 = ([float(s) for s in re.findall(r'-?\\d+\\.?\\d*', peo_2)])\n",
        "peo_2.pop(0)"
      ],
      "execution_count": 396,
      "outputs": [
        {
          "output_type": "execute_result",
          "data": {
            "text/plain": [
              "2.0"
            ]
          },
          "metadata": {
            "tags": []
          },
          "execution_count": 396
        }
      ]
    },
    {
      "cell_type": "code",
      "metadata": {
        "id": "XnpD-I6qdMYz",
        "colab": {
          "base_uri": "https://localhost:8080/",
          "height": 344
        },
        "outputId": "cd0651ac-e004-41c2-d409-5c004a7fe074"
      },
      "source": [
        "import matplotlib.pyplot as plt\n",
        "import numpy as np\n",
        "plt.plot(year,peo_1,\"+b\",label='Taipei') #畫線\n",
        "plt.plot(year,peo_2,\".\",color=\"orange\",label='Tainan') #畫線\n",
        "x = np.linspace(year[0], year[-1],21)\n",
        "plt.plot(year,2**x,\"g\")\n",
        "plt.plot(year,x**5,\"--g\")\n",
        "plt.axis([900,2090,0,8000])\n",
        "plt.title(\"population number\", fontsize=24) #圖表標題\n",
        "plt.xlabel(\"years\", fontsize=16) #x軸標題\n",
        "plt.ylabel(\"people\", fontsize=16) #y軸標題\n",
        "plt.legend()    \n",
        "plt.show() #顯示繪製的圖形"
      ],
      "execution_count": 416,
      "outputs": [
        {
          "output_type": "stream",
          "text": [
            "/usr/local/lib/python3.7/dist-packages/ipykernel_launcher.py:6: RuntimeWarning: overflow encountered in power\n",
            "  \n"
          ],
          "name": "stderr"
        },
        {
          "output_type": "display_data",
          "data": {
            "image/png": "[encoded data removed]",
            "text/plain": [
              "<Figure size 432x288 with 1 Axes>"
            ]
          },
          "metadata": {
            "tags": [],
            "needs_background": "light"
          }
        }
      ]
    },
    {
      "cell_type": "code",
      "metadata": {
        "id": "5rrlGu6KdxUr",
        "colab": {
          "base_uri": "https://localhost:8080/",
          "height": 300
        },
        "outputId": "f2e7e3c7-9015-46e2-ed74-087280527e67"
      },
      "source": [
        "import matplotlib.pyplot as plt\n",
        "\n",
        "yea = []\n",
        "for i in range(950,2000,50):\n",
        "  yea.append(i)\n",
        "plt.bar(yea,peo_1, label='Taipei',width=20,align='center',alpha = 0.85)\n",
        "plt.bar(yea,peo_2, label='Tainan',width=20,color = \"orange\",align='edge',alpha = 0.5)\n",
        "plt.legend()     \n",
        "plt.title('population')\n",
        "plt.ylabel('people', fontsize=16)\n",
        "plt.xlabel('year', fontsize=16)\n",
        "plt.show() #顯示繪製的圖形"
      ],
      "execution_count": 400,
      "outputs": [
        {
          "output_type": "display_data",
          "data": {
            "image/png": "[encoded data removed]",
            "text/plain": [
              "<Figure size 432x288 with 1 Axes>"
            ]
          },
          "metadata": {
            "tags": [],
            "needs_background": "light"
          }
        }
      ]
    }
  ]
}