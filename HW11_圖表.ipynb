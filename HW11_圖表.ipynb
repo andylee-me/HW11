{
  "nbformat": 4,
  "nbformat_minor": 0,
  "metadata": {
    "colab": {
      "name": "HW10-圖表",
      "provenance": [],
      "collapsed_sections": [],
      "toc_visible": true,
      "authorship_tag": "ABX9TyNeF4HwKbJQy55XB8/S45pj",
      "include_colab_link": true
    },
    "kernelspec": {
      "display_name": "Python 3",
      "name": "python3"
    },
    "language_info": {
      "name": "python"
    }
  },
  "cells": [
    {
      "cell_type": "markdown",
      "metadata": {
        "id": "view-in-github",
        "colab_type": "text"
      },
      "source": [
        "<a href=\"https://colab.research.google.com/github/andylee-me/HW11/blob/main/HW11_%E5%9C%96%E8%A1%A8.ipynb\" target=\"_parent\"><img src=\"https://colab.research.google.com/assets/colab-badge.svg\" alt=\"Open In Colab\"/></a>"
      ]
    },
    {
      "cell_type": "code",
      "metadata": {
        "colab": {
          "base_uri": "https://localhost:8080/"
        },
        "id": "ovkWNu7f_boI",
        "outputId": "aefffa8b-caa9-45af-b329-e4aab5e8a891"
      },
      "source": [
        "from google.colab import drive\n",
        "drive.mount('/content/drive')"
      ],
      "execution_count": 12,
      "outputs": [
        {
          "output_type": "stream",
          "text": [
            "Drive already mounted at /content/drive; to attempt to forcibly remount, call drive.mount(\"/content/drive\", force_remount=True).\n"
          ],
          "name": "stdout"
        }
      ]
    },
    {
      "cell_type": "code",
      "metadata": {
        "id": "DZxkMnAWCsS2"
      },
      "source": [
        "with open('/content/drive/My Drive/population.txt', 'r') as f: \n",
        "    line = f.readlines()"
      ],
      "execution_count": 13,
      "outputs": []
    },
    {
      "cell_type": "code",
      "metadata": {
        "colab": {
          "base_uri": "https://localhost:8080/"
        },
        "id": "qyIvTdXgDd8b",
        "outputId": "c4e79ef4-30ac-43f1-85df-d6afec2fde95"
      },
      "source": [
        "year = line[0]\n",
        "import re\n",
        "year = ([float(s) for s in re.findall(r'-?\\d+\\.?\\d*', year)])\n",
        "peo_1 = line[2]\n",
        "peo_1 = ([float(s) for s in re.findall(r'-?\\d+\\.?\\d*', peo_1)])\n",
        "peo_1.pop(0)\n",
        "peo_2 = line[3]\n",
        "peo_2 = ([float(s) for s in re.findall(r'-?\\d+\\.?\\d*', peo_2)])\n",
        "peo_2.pop(0)"
      ],
      "execution_count": 14,
      "outputs": [
        {
          "output_type": "execute_result",
          "data": {
            "text/plain": [
              "2.0"
            ]
          },
          "metadata": {
            "tags": []
          },
          "execution_count": 14
        }
      ]
    },
    {
      "cell_type": "code",
      "metadata": {
        "id": "XnpD-I6qdMYz",
        "colab": {
          "base_uri": "https://localhost:8080/",
          "height": 309
        },
        "outputId": "43fe611b-e6ab-4cdf-8cce-441a22c3e021"
      },
      "source": [
        "import matplotlib.pyplot as plt\n",
        "plt.scatter(year,peo_1, s=40, c='blue')\n",
        "plt.scatter(year,peo_2, s=40, c='orange')\n",
        "plt.title(\"population\", fontsize=24) #圖表標題\n",
        "plt.xlabel(\"year\", fontsize=16) #x軸標題\n",
        "plt.ylabel(\"people\", fontsize=16) #y軸標題\n",
        "plt.show() #顯示繪製的圖形"
      ],
      "execution_count": 15,
      "outputs": [
        {
          "output_type": "display_data",
          "data": {
            "image/png": "[encoded data removed]",
            "text/plain": [
              "<Figure size 432x288 with 1 Axes>"
            ]
          },
          "metadata": {
            "tags": [],
            "needs_background": "light"
          }
        }
      ]
    },
    {
      "cell_type": "code",
      "metadata": {
        "id": "5rrlGu6KdxUr",
        "colab": {
          "base_uri": "https://localhost:8080/",
          "height": 300
        },
        "outputId": "8ebfa558-583d-4def-f2f4-143288f4797a"
      },
      "source": [
        "import matplotlib.pyplot as plt\n",
        "\n",
        "yea = []\n",
        "for i in range(950,2000,50):\n",
        "  yea.append(i)\n",
        "plt.bar(year,peo_1, 10)\n",
        "plt.bar(year,peo_2, 3,color = \"orange\")\n",
        "plt.title('population')\n",
        "plt.ylabel('people', fontsize=16)\n",
        "plt.xlabel('year', fontsize=16)\n",
        "plt.xticks(year,yea) #設定x軸刻度\n",
        "plt.show() #顯示繪製的圖形"
      ],
      "execution_count": 26,
      "outputs": [
        {
          "output_type": "display_data",
          "data": {
            "image/png": "[encoded data removed]",
            "text/plain": [
              "<Figure size 432x288 with 1 Axes>"
            ]
          },
          "metadata": {
            "tags": [],
            "needs_background": "light"
          }
        }
      ]
    }
  ]
}