{
  "nbformat": 4,
  "nbformat_minor": 0,
  "metadata": {
    "colab": {
      "name": "HW10-圖表",
      "provenance": [],
      "collapsed_sections": [],
      "toc_visible": true,
      "authorship_tag": "ABX9TyPkgFH+8OASisajAdW5gfMM",
      "include_colab_link": true
    },
    "kernelspec": {
      "display_name": "Python 3",
      "name": "python3"
    },
    "language_info": {
      "name": "python"
    }
  },
  "cells": [
    {
      "cell_type": "markdown",
      "metadata": {
        "id": "view-in-github",
        "colab_type": "text"
      },
      "source": [
        "<a href=\"https://colab.research.google.com/github/andylee-me/HW11/blob/main/HW11_%E5%9C%96%E8%A1%A8.ipynb\" target=\"_parent\"><img src=\"https://colab.research.google.com/assets/colab-badge.svg\" alt=\"Open In Colab\"/></a>"
      ]
    },
    {
      "cell_type": "code",
      "metadata": {
        "colab": {
          "base_uri": "https://localhost:8080/"
        },
        "id": "ovkWNu7f_boI",
        "outputId": "a940d553-bc9f-4506-ecbf-d6f868d2a32b"
      },
      "source": [
        "from google.colab import drive\n",
        "drive.mount('/content/drive')"
      ],
      "execution_count": null,
      "outputs": [
        {
          "output_type": "stream",
          "text": [
            "Drive already mounted at /content/drive; to attempt to forcibly remount, call drive.mount(\"/content/drive\", force_remount=True).\n"
          ],
          "name": "stdout"
        }
      ]
    },
    {
      "cell_type": "code",
      "metadata": {
        "id": "DZxkMnAWCsS2"
      },
      "source": [
        "with open('/content/drive/My Drive/population.txt', 'r') as f: \n",
        "    line = f.readlines()"
      ],
      "execution_count": null,
      "outputs": []
    },
    {
      "cell_type": "code",
      "metadata": {
        "colab": {
          "base_uri": "https://localhost:8080/"
        },
        "id": "qyIvTdXgDd8b",
        "outputId": "c3289541-a365-49ae-efb5-bf88808ce3d3"
      },
      "source": [
        "year = line[0]\n",
        "import re\n",
        "year = ([float(s) for s in re.findall(r'-?\\d+\\.?\\d*', year)])\n",
        "peo_1 = line[2]\n",
        "peo_1 = ([float(s) for s in re.findall(r'-?\\d+\\.?\\d*', peo_1)])\n",
        "peo_1.pop(0)\n",
        "peo_2 = line[3]\n",
        "peo_2 = ([float(s) for s in re.findall(r'-?\\d+\\.?\\d*', peo_2)])\n",
        "peo_2.pop(0)"
      ],
      "execution_count": null,
      "outputs": [
        {
          "output_type": "execute_result",
          "data": {
            "text/plain": [
              "2.0"
            ]
          },
          "metadata": {
            "tags": []
          },
          "execution_count": 98
        }
      ]
    },
    {
      "cell_type": "code",
      "metadata": {
        "id": "XnpD-I6qdMYz",
        "colab": {
          "base_uri": "https://localhost:8080/",
          "height": 309
        },
        "outputId": "2023391d-2a27-4421-d925-763125064582"
      },
      "source": [
        "import matplotlib.pyplot as plt\n",
        "plt.scatter(year,peo_1, s=40, c='blue')\n",
        "plt.scatter(year,peo_2, s=40, c='orange')\n",
        "plt.title(\"population\", fontsize=24) #圖表標題\n",
        "plt.xlabel(\"year\", fontsize=16) #x軸標題\n",
        "plt.ylabel(\"people\", fontsize=16) #y軸標題\n",
        "plt.show() #顯示繪製的圖形"
      ],
      "execution_count": null,
      "outputs": [
        {
          "output_type": "display_data",
          "data": {
            "image/png": "[encoded data removed]",
            "text/plain": [
              "<Figure size 432x288 with 1 Axes>"
            ]
          },
          "metadata": {
            "tags": [],
            "needs_background": "light"
          }
        }
      ]
    },
    {
      "cell_type": "code",
      "metadata": {
        "id": "5rrlGu6KdxUr",
        "colab": {
          "base_uri": "https://localhost:8080/",
          "height": 300
        },
        "outputId": "f6565f41-a8f9-4e27-e52e-09ce32b6515c"
      },
      "source": [
        "import matplotlib.pyplot as plt\n",
        "\n",
        "plt.bar(year,peo_1, 50)\n",
        "plt.title('population')\n",
        "plt.ylabel('people', fontsize=16)\n",
        "plt.xlabel('year', fontsize=16)\n",
        "plt.show() #顯示繪製的圖形"
      ],
      "execution_count": null,
      "outputs": [
        {
          "output_type": "display_data",
          "data": {
            "image/png": "[encoded data removed]",
            "text/plain": [
              "<Figure size 432x288 with 1 Axes>"
            ]
          },
          "metadata": {
            "tags": [],
            "needs_background": "light"
          }
        }
      ]
    },
    {
      "cell_type": "code",
      "metadata": {
        "id": "GSeUvi3WhGkf",
        "colab": {
          "base_uri": "https://localhost:8080/",
          "height": 300
        },
        "outputId": "06bf4c3e-e174-432c-9947-b821d0401fbd"
      },
      "source": [
        "import matplotlib.pyplot as plt\n",
        "\n",
        "plt.bar(year,peo_1, 50,color = \"white\")\n",
        "plt.bar(year,peo_2, 50,color = \"orange\")\n",
        "plt.title('population')\n",
        "plt.ylabel('people', fontsize=16)\n",
        "plt.xlabel('year', fontsize=16)\n",
        "plt.show() #顯示繪製的圖形"
      ],
      "execution_count": null,
      "outputs": [
        {
          "output_type": "display_data",
          "data": {
            "image/png": "[encoded data removed]",
            "text/plain": [
              "<Figure size 432x288 with 1 Axes>"
            ]
          },
          "metadata": {
            "tags": [],
            "needs_background": "light"
          }
        }
      ]
    }
  ]
}